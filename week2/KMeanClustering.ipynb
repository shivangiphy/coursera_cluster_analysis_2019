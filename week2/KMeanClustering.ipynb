{
 "cells": [
  {
   "cell_type": "code",
   "execution_count": 1,
   "metadata": {},
   "outputs": [],
   "source": [
    "%matplotlib inline\n",
    "import matplotlib.pyplot as plt\n"
   ]
  },
  {
   "cell_type": "code",
   "execution_count": 9,
   "metadata": {},
   "outputs": [
    {
     "data": {
      "image/png": "[encoded data removed]",
      "text/plain": [
       "<Figure size 432x288 with 1 Axes>"
      ]
     },
     "metadata": {
      "needs_background": "light"
     },
     "output_type": "display_data"
    }
   ],
   "source": [
    "\n",
    "outfile=open('clusters_v2.txt', 'w')\n",
    "file = open('places.txt', 'r')\n",
    "id=0\n",
    "m0=[-112,34]\n",
    "m1=[-80,35]\n",
    "m2=[-80,44]\n",
    "d0=0\n",
    "d1=0\n",
    "d2=0\n",
    "for line in file.readlines():\n",
    "    x,y = list(map(float,line.rstrip().split(',')))\n",
    "    #print(id)\n",
    "    #print(x,y)\n",
    "    cluster=0\n",
    "    d0=(x-m0[0])*(x-m0[0])+(y-m0[1])*(y-m0[1])\n",
    "    d1=(x-m1[0])*(x-m1[0])+(y-m1[1])*(y-m1[1])\n",
    "    if(d1<d0):\n",
    "        cluster=1\n",
    "    d2=(x-m2[0])*(x-m2[0])+(y-m2[1])*(y-m2[1])\n",
    "    if(cluster==0 and d2<d0):\n",
    "        cluster=2\n",
    "    if(cluster==1 and d2<d1):\n",
    "        cluster=2\n",
    "    outfile.write(str(id)+\" \"+str(cluster)+\"\\n\")\n",
    "    id+=1\n",
    "    #print(cluster)\n",
    " \n",
    "    plt.plot(x,y,'bo')\n",
    "outfile.close()"
   ]
  },
  {
   "cell_type": "code",
   "execution_count": 15,
   "metadata": {},
   "outputs": [
    {
     "name": "stdout",
     "output_type": "stream",
     "text": [
      "[[-112, 34], [-80, 35], [-80, 44]]\n",
      "[[-112.07160642127002, 33.460490126668], [-80.84422657692402, 35.217096915702], [-80.52837165851798, 43.47624848111802]]\n",
      "[[-112.07160642127002, 33.460490126668], [-80.84422657692402, 35.217096915702], [-80.52837165851798, 43.47624848111802]]\n"
     ]
    }
   ],
   "source": [
    "\n",
    "\n",
    "\n",
    "m=[[-112,34],[-80,35],[-80,44]]\n",
    "num_clusters=3\n",
    "for i in range(3):\n",
    "    id=0\n",
    "    file = open('places.txt', 'r')\n",
    "    outfile=open('clusters_v2.txt', 'w') \n",
    "    d=[0 for i in range(num_clusters)]\n",
    "    new_m=[[0,0] for i in range(num_clusters)]\n",
    "    count=[0 for i in range(num_clusters)]\n",
    "    print(m)\n",
    "    for line in file.readlines():\n",
    "        x,y = list(map(float,line.rstrip().split(',')))\n",
    "        #print(id)\n",
    "        #print(x,y)\n",
    "        cluster=0\n",
    "        d[0]=(x-m[0][0])**2+(y-m[0][1])**2\n",
    "        d[1]=(x-m[1][0])**2+(y-m[1][1])**2\n",
    "        if(d[1]<d[0]):\n",
    "            cluster=1\n",
    "        d[2]=(x-m[2][0])**2+(y-m[2][1])**2\n",
    "        if(cluster==0 and d[2]<d[0]):\n",
    "            cluster=2\n",
    "        if(cluster==1 and d[2]<d[1]):\n",
    "            cluster=2\n",
    "        new_m[cluster][0]=new_m[cluster][0]+x\n",
    "        new_m[cluster][1]=new_m[cluster][1]+y\n",
    "        count[cluster]+=1\n",
    "        outfile.write(str(id)+\" \"+str(cluster)+\"\\n\")\n",
    "        id+=1\n",
    "        #print(cluster)\n",
    "        #plt.plot(x,y,'bo')\n",
    "    for j in range(3):\n",
    "        m[j][0]=new_m[j][0]/count[j]\n",
    "        m[j][1]=new_m[j][1]/count[j]\n",
    "    outfile.close()"
   ]
  },
  {
   "cell_type": "code",
   "execution_count": 1,
   "metadata": {},
   "outputs": [],
   "source": [
    "num_clusters=3"
   ]
  },
  {
   "cell_type": "code",
   "execution_count": 11,
   "metadata": {},
   "outputs": [
    {
     "data": {
      "text/plain": [
       "[5, 0, 0]"
      ]
     },
     "execution_count": 11,
     "metadata": {},
     "output_type": "execute_result"
    }
   ],
   "source": [
    "t=[0]*num_clusters\n",
    "t\n",
    "t[0]+=5\n",
    "t"
   ]
  },
  {
   "cell_type": "code",
   "execution_count": 9,
   "metadata": {},
   "outputs": [
    {
     "name": "stdout",
     "output_type": "stream",
     "text": [
      "[[0, 0], [0, 0], [0, 0]]\n"
     ]
    }
   ],
   "source": [
    "s=[[0,0]]*num_clusters\n",
    "print(s)"
   ]
  },
  {
   "cell_type": "code",
   "execution_count": 10,
   "metadata": {},
   "outputs": [
    {
     "data": {
      "text/plain": [
       "[[1, 2], [1, 2], [1, 2]]"
      ]
     },
     "execution_count": 10,
     "metadata": {},
     "output_type": "execute_result"
    }
   ],
   "source": [
    "s[0][0]=s[0][0]+1\n",
    "s[0][1]=s[0][1]+2\n",
    "s"
   ]
  },
  {
   "cell_type": "code",
   "execution_count": 13,
   "metadata": {},
   "outputs": [
    {
     "data": {
      "text/plain": [
       "[0, 0, 0, 0, 0]"
      ]
     },
     "execution_count": 13,
     "metadata": {},
     "output_type": "execute_result"
    }
   ],
   "source": [
    "[0 for i in range(5)]"
   ]
  },
  {
   "cell_type": "code",
   "execution_count": 16,
   "metadata": {},
   "outputs": [
    {
     "data": {
      "text/plain": [
       "[[0, 0], [0, 0], [0, 0], [0, 0]]"
      ]
     },
     "execution_count": 16,
     "metadata": {},
     "output_type": "execute_result"
    }
   ],
   "source": [
    "s=[[0,0] for i in range(4)]\n",
    "s"
   ]
  },
  {
   "cell_type": "code",
   "execution_count": 17,
   "metadata": {},
   "outputs": [
    {
     "data": {
      "text/plain": [
       "[[1, 2], [0, 0], [0, 0], [0, 0]]"
      ]
     },
     "execution_count": 17,
     "metadata": {},
     "output_type": "execute_result"
    }
   ],
   "source": [
    "s[0][0]=s[0][0]+1\n",
    "s[0][1]=s[0][1]+2\n",
    "s"
   ]
  },
  {
   "cell_type": "code",
   "execution_count": 21,
   "metadata": {},
   "outputs": [
    {
     "data": {
      "text/plain": [
       "[[0, 0], [1, 1], [2, 8], [3, 27]]"
      ]
     },
     "execution_count": 21,
     "metadata": {},
     "output_type": "execute_result"
    }
   ],
   "source": [
    "[[i,i**3] for i in range(4)]"
   ]
  },
  {
   "cell_type": "code",
   "execution_count": 23,
   "metadata": {},
   "outputs": [
    {
     "data": {
      "text/plain": [
       "{0: 0, 1: 1, 2: 8, 3: 27}"
      ]
     },
     "execution_count": 23,
     "metadata": {},
     "output_type": "execute_result"
    }
   ],
   "source": [
    "{i:i**3 for i in range(4)}"
   ]
  },
  {
   "cell_type": "code",
   "execution_count": 24,
   "metadata": {},
   "outputs": [
    {
     "data": {
      "text/plain": [
       "{0: [0, 0], 1: [1, 1], 2: [4, 8], 3: [9, 27]}"
      ]
     },
     "execution_count": 24,
     "metadata": {},
     "output_type": "execute_result"
    }
   ],
   "source": [
    "{i:[i**2,i**3] for i in range(4)}"
   ]
  },
  {
   "cell_type": "code",
   "execution_count": 26,
   "metadata": {},
   "outputs": [
    {
     "data": {
      "text/plain": [
       "{'shivangi': 8, 'shubhanshu': 10}"
      ]
     },
     "execution_count": 26,
     "metadata": {},
     "output_type": "execute_result"
    }
   ],
   "source": [
    "names=['shivangi','shubhanshu']\n",
    "{name:len(name) for name in names}"
   ]
  },
  {
   "cell_type": "code",
   "execution_count": null,
   "metadata": {},
   "outputs": [],
   "source": []
  }
 ],
 "metadata": {
  "kernelspec": {
   "display_name": "Python 3",
   "language": "python",
   "name": "python3"
  },
  "language_info": {
   "codemirror_mode": {
    "name": "ipython",
    "version": 3
   },
   "file_extension": ".py",
   "mimetype": "text/x-python",
   "name": "python",
   "nbconvert_exporter": "python",
   "pygments_lexer": "ipython3",
   "version": "3.7.4"
  }
 },
 "nbformat": 4,
 "nbformat_minor": 2
}
